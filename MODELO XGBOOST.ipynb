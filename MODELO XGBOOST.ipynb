{
 "cells": [
  {
   "cell_type": "code",
   "execution_count": 1,
   "id": "3ceae89a-19ba-4a4a-8b8f-d00907cfc11a",
   "metadata": {},
   "outputs": [
    {
     "name": "stdout",
     "output_type": "stream",
     "text": [
      "Dimensiones: (108, 10)\n",
      "\n",
      "Tipos de datos:\n",
      "ANO                            int64\n",
      "MES                            int64\n",
      "ventas_gasolina                int64\n",
      "ventas_diesel                  int64\n",
      "ventas_electrico               int64\n",
      "ventas_otros                   int64\n",
      "PIB_nominal                  float64\n",
      "precio_gasolina_eur_litro    float64\n",
      "ev_incentivos_mEur           float64\n",
      "restriccion_score              int64\n",
      "dtype: object\n",
      "\n",
      "Primeras 5 filas:\n"
     ]
    },
    {
     "data": {
      "text/html": [
       "<div>\n",
       "<style scoped>\n",
       "    .dataframe tbody tr th:only-of-type {\n",
       "        vertical-align: middle;\n",
       "    }\n",
       "\n",
       "    .dataframe tbody tr th {\n",
       "        vertical-align: top;\n",
       "    }\n",
       "\n",
       "    .dataframe thead th {\n",
       "        text-align: right;\n",
       "    }\n",
       "</style>\n",
       "<table border=\"1\" class=\"dataframe\">\n",
       "  <thead>\n",
       "    <tr style=\"text-align: right;\">\n",
       "      <th></th>\n",
       "      <th>ANO</th>\n",
       "      <th>MES</th>\n",
       "      <th>ventas_gasolina</th>\n",
       "      <th>ventas_diesel</th>\n",
       "      <th>ventas_electrico</th>\n",
       "      <th>ventas_otros</th>\n",
       "      <th>PIB_nominal</th>\n",
       "      <th>precio_gasolina_eur_litro</th>\n",
       "      <th>ev_incentivos_mEur</th>\n",
       "      <th>restriccion_score</th>\n",
       "    </tr>\n",
       "  </thead>\n",
       "  <tbody>\n",
       "    <tr>\n",
       "      <th>0</th>\n",
       "      <td>2015</td>\n",
       "      <td>1</td>\n",
       "      <td>22787</td>\n",
       "      <td>48250</td>\n",
       "      <td>55</td>\n",
       "      <td>0</td>\n",
       "      <td>1.206165e+12</td>\n",
       "      <td>1.130435</td>\n",
       "      <td>0.0</td>\n",
       "      <td>0</td>\n",
       "    </tr>\n",
       "    <tr>\n",
       "      <th>1</th>\n",
       "      <td>2015</td>\n",
       "      <td>2</td>\n",
       "      <td>31283</td>\n",
       "      <td>58821</td>\n",
       "      <td>51</td>\n",
       "      <td>0</td>\n",
       "      <td>1.206165e+12</td>\n",
       "      <td>1.187365</td>\n",
       "      <td>0.0</td>\n",
       "      <td>0</td>\n",
       "    </tr>\n",
       "    <tr>\n",
       "      <th>2</th>\n",
       "      <td>2015</td>\n",
       "      <td>3</td>\n",
       "      <td>42380</td>\n",
       "      <td>73040</td>\n",
       "      <td>162</td>\n",
       "      <td>0</td>\n",
       "      <td>1.206165e+12</td>\n",
       "      <td>1.258910</td>\n",
       "      <td>0.0</td>\n",
       "      <td>0</td>\n",
       "    </tr>\n",
       "    <tr>\n",
       "      <th>3</th>\n",
       "      <td>2015</td>\n",
       "      <td>4</td>\n",
       "      <td>31291</td>\n",
       "      <td>54507</td>\n",
       "      <td>111</td>\n",
       "      <td>0</td>\n",
       "      <td>1.206165e+12</td>\n",
       "      <td>1.285613</td>\n",
       "      <td>0.0</td>\n",
       "      <td>0</td>\n",
       "    </tr>\n",
       "    <tr>\n",
       "      <th>4</th>\n",
       "      <td>2015</td>\n",
       "      <td>5</td>\n",
       "      <td>36275</td>\n",
       "      <td>61082</td>\n",
       "      <td>118</td>\n",
       "      <td>0</td>\n",
       "      <td>1.206165e+12</td>\n",
       "      <td>1.314428</td>\n",
       "      <td>0.0</td>\n",
       "      <td>0</td>\n",
       "    </tr>\n",
       "  </tbody>\n",
       "</table>\n",
       "</div>"
      ],
      "text/plain": [
       "    ANO  MES  ventas_gasolina  ventas_diesel  ventas_electrico  ventas_otros  \\\n",
       "0  2015    1            22787          48250                55             0   \n",
       "1  2015    2            31283          58821                51             0   \n",
       "2  2015    3            42380          73040               162             0   \n",
       "3  2015    4            31291          54507               111             0   \n",
       "4  2015    5            36275          61082               118             0   \n",
       "\n",
       "    PIB_nominal  precio_gasolina_eur_litro  ev_incentivos_mEur  \\\n",
       "0  1.206165e+12                   1.130435                 0.0   \n",
       "1  1.206165e+12                   1.187365                 0.0   \n",
       "2  1.206165e+12                   1.258910                 0.0   \n",
       "3  1.206165e+12                   1.285613                 0.0   \n",
       "4  1.206165e+12                   1.314428                 0.0   \n",
       "\n",
       "   restriccion_score  \n",
       "0                  0  \n",
       "1                  0  \n",
       "2                  0  \n",
       "3                  0  \n",
       "4                  0  "
      ]
     },
     "metadata": {},
     "output_type": "display_data"
    },
    {
     "name": "stdout",
     "output_type": "stream",
     "text": [
      "\n",
      "Resumen estadístico de variables numéricas:\n"
     ]
    },
    {
     "data": {
      "text/html": [
       "<div>\n",
       "<style scoped>\n",
       "    .dataframe tbody tr th:only-of-type {\n",
       "        vertical-align: middle;\n",
       "    }\n",
       "\n",
       "    .dataframe tbody tr th {\n",
       "        vertical-align: top;\n",
       "    }\n",
       "\n",
       "    .dataframe thead th {\n",
       "        text-align: right;\n",
       "    }\n",
       "</style>\n",
       "<table border=\"1\" class=\"dataframe\">\n",
       "  <thead>\n",
       "    <tr style=\"text-align: right;\">\n",
       "      <th></th>\n",
       "      <th>count</th>\n",
       "      <th>mean</th>\n",
       "      <th>std</th>\n",
       "      <th>min</th>\n",
       "      <th>25%</th>\n",
       "      <th>50%</th>\n",
       "      <th>75%</th>\n",
       "      <th>max</th>\n",
       "    </tr>\n",
       "  </thead>\n",
       "  <tbody>\n",
       "    <tr>\n",
       "      <th>ANO</th>\n",
       "      <td>108.0</td>\n",
       "      <td>2.019000e+03</td>\n",
       "      <td>2.594026e+00</td>\n",
       "      <td>2.015000e+03</td>\n",
       "      <td>2.017000e+03</td>\n",
       "      <td>2.019000e+03</td>\n",
       "      <td>2.021000e+03</td>\n",
       "      <td>2.023000e+03</td>\n",
       "    </tr>\n",
       "    <tr>\n",
       "      <th>MES</th>\n",
       "      <td>108.0</td>\n",
       "      <td>6.500000e+00</td>\n",
       "      <td>3.468146e+00</td>\n",
       "      <td>1.000000e+00</td>\n",
       "      <td>3.750000e+00</td>\n",
       "      <td>6.500000e+00</td>\n",
       "      <td>9.250000e+00</td>\n",
       "      <td>1.200000e+01</td>\n",
       "    </tr>\n",
       "    <tr>\n",
       "      <th>ventas_gasolina</th>\n",
       "      <td>108.0</td>\n",
       "      <td>5.432270e+04</td>\n",
       "      <td>1.739670e+04</td>\n",
       "      <td>2.887000e+03</td>\n",
       "      <td>4.263900e+04</td>\n",
       "      <td>5.432050e+04</td>\n",
       "      <td>6.524000e+04</td>\n",
       "      <td>9.389900e+04</td>\n",
       "    </tr>\n",
       "    <tr>\n",
       "      <th>ventas_diesel</th>\n",
       "      <td>108.0</td>\n",
       "      <td>3.852796e+04</td>\n",
       "      <td>1.787649e+04</td>\n",
       "      <td>1.794000e+03</td>\n",
       "      <td>2.106225e+04</td>\n",
       "      <td>3.702850e+04</td>\n",
       "      <td>5.308000e+04</td>\n",
       "      <td>7.489000e+04</td>\n",
       "    </tr>\n",
       "    <tr>\n",
       "      <th>ventas_electrico</th>\n",
       "      <td>108.0</td>\n",
       "      <td>1.604972e+03</td>\n",
       "      <td>1.538109e+03</td>\n",
       "      <td>5.100000e+01</td>\n",
       "      <td>4.325000e+02</td>\n",
       "      <td>1.019500e+03</td>\n",
       "      <td>2.236250e+03</td>\n",
       "      <td>6.582000e+03</td>\n",
       "    </tr>\n",
       "    <tr>\n",
       "      <th>ventas_otros</th>\n",
       "      <td>108.0</td>\n",
       "      <td>1.888889e+00</td>\n",
       "      <td>4.280653e+00</td>\n",
       "      <td>0.000000e+00</td>\n",
       "      <td>0.000000e+00</td>\n",
       "      <td>0.000000e+00</td>\n",
       "      <td>1.000000e+00</td>\n",
       "      <td>2.400000e+01</td>\n",
       "    </tr>\n",
       "    <tr>\n",
       "      <th>PIB_nominal</th>\n",
       "      <td>108.0</td>\n",
       "      <td>1.380410e+12</td>\n",
       "      <td>1.218543e+11</td>\n",
       "      <td>1.206165e+12</td>\n",
       "      <td>1.289784e+12</td>\n",
       "      <td>1.403496e+12</td>\n",
       "      <td>1.446498e+12</td>\n",
       "      <td>1.620091e+12</td>\n",
       "    </tr>\n",
       "    <tr>\n",
       "      <th>precio_gasolina_eur_litro</th>\n",
       "      <td>108.0</td>\n",
       "      <td>1.350977e+00</td>\n",
       "      <td>2.205756e-01</td>\n",
       "      <td>1.078875e+00</td>\n",
       "      <td>1.188771e+00</td>\n",
       "      <td>1.299499e+00</td>\n",
       "      <td>1.441777e+00</td>\n",
       "      <td>2.108957e+00</td>\n",
       "    </tr>\n",
       "    <tr>\n",
       "      <th>ev_incentivos_mEur</th>\n",
       "      <td>108.0</td>\n",
       "      <td>1.901000e+02</td>\n",
       "      <td>2.604726e+02</td>\n",
       "      <td>0.000000e+00</td>\n",
       "      <td>1.660000e+01</td>\n",
       "      <td>4.500000e+01</td>\n",
       "      <td>3.500000e+02</td>\n",
       "      <td>8.000000e+02</td>\n",
       "    </tr>\n",
       "    <tr>\n",
       "      <th>restriccion_score</th>\n",
       "      <td>108.0</td>\n",
       "      <td>4.444444e+00</td>\n",
       "      <td>3.036640e+00</td>\n",
       "      <td>0.000000e+00</td>\n",
       "      <td>2.000000e+00</td>\n",
       "      <td>4.000000e+00</td>\n",
       "      <td>7.000000e+00</td>\n",
       "      <td>9.000000e+00</td>\n",
       "    </tr>\n",
       "  </tbody>\n",
       "</table>\n",
       "</div>"
      ],
      "text/plain": [
       "                           count          mean           std           min  \\\n",
       "ANO                        108.0  2.019000e+03  2.594026e+00  2.015000e+03   \n",
       "MES                        108.0  6.500000e+00  3.468146e+00  1.000000e+00   \n",
       "ventas_gasolina            108.0  5.432270e+04  1.739670e+04  2.887000e+03   \n",
       "ventas_diesel              108.0  3.852796e+04  1.787649e+04  1.794000e+03   \n",
       "ventas_electrico           108.0  1.604972e+03  1.538109e+03  5.100000e+01   \n",
       "ventas_otros               108.0  1.888889e+00  4.280653e+00  0.000000e+00   \n",
       "PIB_nominal                108.0  1.380410e+12  1.218543e+11  1.206165e+12   \n",
       "precio_gasolina_eur_litro  108.0  1.350977e+00  2.205756e-01  1.078875e+00   \n",
       "ev_incentivos_mEur         108.0  1.901000e+02  2.604726e+02  0.000000e+00   \n",
       "restriccion_score          108.0  4.444444e+00  3.036640e+00  0.000000e+00   \n",
       "\n",
       "                                    25%           50%           75%  \\\n",
       "ANO                        2.017000e+03  2.019000e+03  2.021000e+03   \n",
       "MES                        3.750000e+00  6.500000e+00  9.250000e+00   \n",
       "ventas_gasolina            4.263900e+04  5.432050e+04  6.524000e+04   \n",
       "ventas_diesel              2.106225e+04  3.702850e+04  5.308000e+04   \n",
       "ventas_electrico           4.325000e+02  1.019500e+03  2.236250e+03   \n",
       "ventas_otros               0.000000e+00  0.000000e+00  1.000000e+00   \n",
       "PIB_nominal                1.289784e+12  1.403496e+12  1.446498e+12   \n",
       "precio_gasolina_eur_litro  1.188771e+00  1.299499e+00  1.441777e+00   \n",
       "ev_incentivos_mEur         1.660000e+01  4.500000e+01  3.500000e+02   \n",
       "restriccion_score          2.000000e+00  4.000000e+00  7.000000e+00   \n",
       "\n",
       "                                    max  \n",
       "ANO                        2.023000e+03  \n",
       "MES                        1.200000e+01  \n",
       "ventas_gasolina            9.389900e+04  \n",
       "ventas_diesel              7.489000e+04  \n",
       "ventas_electrico           6.582000e+03  \n",
       "ventas_otros               2.400000e+01  \n",
       "PIB_nominal                1.620091e+12  \n",
       "precio_gasolina_eur_litro  2.108957e+00  \n",
       "ev_incentivos_mEur         8.000000e+02  \n",
       "restriccion_score          9.000000e+00  "
      ]
     },
     "metadata": {},
     "output_type": "display_data"
    },
    {
     "name": "stdout",
     "output_type": "stream",
     "text": [
      "\n",
      "Valores nulos por columna:\n",
      "ANO                          0\n",
      "MES                          0\n",
      "ventas_gasolina              0\n",
      "ventas_diesel                0\n",
      "ventas_electrico             0\n",
      "ventas_otros                 0\n",
      "PIB_nominal                  0\n",
      "precio_gasolina_eur_litro    0\n",
      "ev_incentivos_mEur           0\n",
      "restriccion_score            0\n",
      "dtype: int64\n"
     ]
    }
   ],
   "source": [
    "# 1.1 – Importar librerías básicas\n",
    "import pandas as pd\n",
    "import numpy as np\n",
    "import matplotlib.pyplot as plt\n",
    "import seaborn as sns\n",
    "\n",
    "# 1.2 – Cargar el archivo Excel\n",
    "ts = pd.read_excel(\"exports/ts_final.xlsx\")\n",
    "\n",
    "# 1.3 – Vista rápida\n",
    "print(\"Dimensiones:\", ts.shape)\n",
    "print(\"\\nTipos de datos:\")\n",
    "print(ts.dtypes)\n",
    "\n",
    "print(\"\\nPrimeras 5 filas:\")\n",
    "display(ts.head())\n",
    "\n",
    "print(\"\\nResumen estadístico de variables numéricas:\")\n",
    "display(ts.describe().T)\n",
    "\n",
    "print(\"\\nValores nulos por columna:\")\n",
    "print(ts.isna().sum())\n"
   ]
  },
  {
   "cell_type": "code",
   "execution_count": 3,
   "id": "10b9633b-bdc7-49e7-a3b3-9dafa016c9e2",
   "metadata": {},
   "outputs": [],
   "source": [
    "# --- Creación del DatetimeIndex (Paso Crucial) ---\n",
    "# Creamos una nueva columna 'fecha' combinando 'ANO' y 'MES'.\n",
    "# El formato 'YYYY-MM' se completa con el día 1 por defecto.\n",
    "ts['fecha'] = pd.to_datetime(ts['ANO'].astype(str) + '-' + ts['MES'].astype(str))\n",
    "\n",
    "# Establecemos esta nueva columna 'fecha' como el índice del DataFrame.\n",
    "ts.set_index('fecha', inplace=True)"
   ]
  },
  {
   "cell_type": "code",
   "execution_count": 86,
   "id": "cebd5c4c-d1c1-44f3-a1a5-faea5b97251d",
   "metadata": {},
   "outputs": [
    {
     "name": "stdout",
     "output_type": "stream",
     "text": [
      "Información del DataFrame con el nuevo índice de fecha:\n",
      "<class 'pandas.core.frame.DataFrame'>\n",
      "DatetimeIndex: 108 entries, 2015-01-01 to 2023-12-01\n",
      "Data columns (total 8 columns):\n",
      " #   Column                     Non-Null Count  Dtype  \n",
      "---  ------                     --------------  -----  \n",
      " 0   ventas_gasolina            108 non-null    int64  \n",
      " 1   ventas_diesel              108 non-null    int64  \n",
      " 2   ventas_electrico           108 non-null    int64  \n",
      " 3   ventas_otros               108 non-null    int64  \n",
      " 4   PIB_nominal                108 non-null    float64\n",
      " 5   precio_gasolina_eur_litro  108 non-null    float64\n",
      " 6   ev_incentivos_mEur         108 non-null    float64\n",
      " 7   restriccion_score          108 non-null    int64  \n",
      "dtypes: float64(3), int64(5)\n",
      "memory usage: 7.6 KB\n",
      "None\n",
      "\n",
      "Últimas 5 filas del DataFrame para ver el final de la serie:\n",
      "            ventas_gasolina  ventas_diesel  ventas_electrico  ventas_otros  \\\n",
      "fecha                                                                        \n",
      "2023-08-01            43991          13087              3943             0   \n",
      "2023-09-01            49773          15361              4063             1   \n",
      "2023-10-01            63607          18283              5881             0   \n",
      "2023-11-01            59823          17531              6582             1   \n",
      "2023-12-01            62114          17479              6309             0   \n",
      "\n",
      "             PIB_nominal  precio_gasolina_eur_litro  ev_incentivos_mEur  \\\n",
      "fecha                                                                     \n",
      "2023-08-01  1.620091e+12                   1.700767               350.0   \n",
      "2023-09-01  1.620091e+12                   1.744442               350.0   \n",
      "2023-10-01  1.620091e+12                   1.693166               350.0   \n",
      "2023-11-01  1.620091e+12                   1.612942               350.0   \n",
      "2023-12-01  1.620091e+12                   1.549702               350.0   \n",
      "\n",
      "            restriccion_score  \n",
      "fecha                          \n",
      "2023-08-01                  9  \n",
      "2023-09-01                  9  \n",
      "2023-10-01                  9  \n",
      "2023-11-01                  9  \n",
      "2023-12-01                  9  \n"
     ]
    }
   ],
   "source": [
    "# Eliminamos las columnas originales 'ANO' y 'MES' que ya no son necesarias.\n",
    "ts.drop(['ANO', 'MES'], axis=1, inplace=True)\n",
    "\n",
    "# --- Verificación ---\n",
    "# Comprobamos que el índice se ha creado correctamente y visualizamos el resultado.\n",
    "print(\"Información del DataFrame con el nuevo índice de fecha:\")\n",
    "print(ts.info())\n",
    "print(\"\\nÚltimas 5 filas del DataFrame para ver el final de la serie:\")\n",
    "print(ts.tail())"
   ]
  },
  {
   "cell_type": "code",
   "execution_count": 88,
   "id": "bc24fde2-3264-4dbd-8c65-dbdf669957c1",
   "metadata": {},
   "outputs": [
    {
     "data": {
      "image/png": "[encoded data removed]",
      "text/plain": [
       "<Figure size 640x480 with 1 Axes>"
      ]
     },
     "metadata": {},
     "output_type": "display_data"
    }
   ],
   "source": [
    "# Graficamos la variable objetivo para confirmar visualmente la correcta carga.\n",
    "ts['ventas_electrico'].plot(title='Ventas Mensuales de Vehículos Eléctricos (2015-2023)')\n",
    "plt.ylabel('Número de Matriculaciones')\n",
    "plt.show()"
   ]
  },
  {
   "cell_type": "code",
   "execution_count": null,
   "id": "8b3b110c-4895-43da-ac0d-a5aed7b709ff",
   "metadata": {},
   "outputs": [],
   "source": []
  },
  {
   "cell_type": "code",
   "execution_count": null,
   "id": "89885294-e4f3-4005-8335-9795df3b0504",
   "metadata": {},
   "outputs": [],
   "source": []
  },
  {
   "cell_type": "code",
   "execution_count": null,
   "id": "23d9683c-65cc-465d-92d5-f5d4f8282bec",
   "metadata": {},
   "outputs": [],
   "source": []
  },
  {
   "cell_type": "code",
   "execution_count": null,
   "id": "a797e343-8848-48f4-b4c5-46025123bf5d",
   "metadata": {},
   "outputs": [],
   "source": []
  },
  {
   "cell_type": "code",
   "execution_count": null,
   "id": "8654099e-d773-4744-819e-644cfdc4299a",
   "metadata": {},
   "outputs": [],
   "source": []
  },
  {
   "cell_type": "code",
   "execution_count": null,
   "id": "9744abf8-c94b-4a98-9c74-f8a7149b63b6",
   "metadata": {},
   "outputs": [],
   "source": []
  },
  {
   "cell_type": "code",
   "execution_count": null,
   "id": "f5da807b-c646-45af-9b79-ec75e92efbc9",
   "metadata": {},
   "outputs": [],
   "source": []
  },
  {
   "cell_type": "code",
   "execution_count": null,
   "id": "145705d2-d5d0-40e4-9b7b-bd7a1f1750a6",
   "metadata": {},
   "outputs": [],
   "source": []
  },
  {
   "cell_type": "code",
   "execution_count": null,
   "id": "8923a41d-793f-459b-be3d-5ef1c6c33b47",
   "metadata": {},
   "outputs": [],
   "source": []
  },
  {
   "cell_type": "code",
   "execution_count": null,
   "id": "58235426-a81f-4418-8626-b0c00c4e383b",
   "metadata": {},
   "outputs": [],
   "source": []
  },
  {
   "cell_type": "code",
   "execution_count": null,
   "id": "d43fe3d2-54f7-41b1-be01-5b7467d447ae",
   "metadata": {},
   "outputs": [],
   "source": []
  },
  {
   "cell_type": "code",
   "execution_count": null,
   "id": "824fc0d6-4d9d-42fa-ba70-075efeeac4bf",
   "metadata": {},
   "outputs": [],
   "source": []
  },
  {
   "cell_type": "code",
   "execution_count": null,
   "id": "f84bb758-964d-4dbb-868c-2138742f52bd",
   "metadata": {},
   "outputs": [],
   "source": []
  },
  {
   "cell_type": "code",
   "execution_count": null,
   "id": "c4bcdbc7-6947-42cd-88a2-0c3a78db8708",
   "metadata": {},
   "outputs": [],
   "source": []
  },
  {
   "cell_type": "code",
   "execution_count": null,
   "id": "d539ef09-837a-497d-9ced-a3aa7a4c6498",
   "metadata": {},
   "outputs": [],
   "source": []
  },
  {
   "cell_type": "code",
   "execution_count": null,
   "id": "ab2e4d6b-78e2-4bf8-97fa-5010746a36a7",
   "metadata": {},
   "outputs": [],
   "source": []
  },
  {
   "cell_type": "code",
   "execution_count": null,
   "id": "74cde839-fdb8-4fb2-a8e8-afa8fc068770",
   "metadata": {},
   "outputs": [],
   "source": []
  },
  {
   "cell_type": "code",
   "execution_count": null,
   "id": "26235bbd-56cd-4d10-9d4f-289a9d12c48e",
   "metadata": {},
   "outputs": [],
   "source": []
  },
  {
   "cell_type": "code",
   "execution_count": null,
   "id": "3eeed151-649c-4698-a632-4dc68c77a78a",
   "metadata": {},
   "outputs": [],
   "source": []
  },
  {
   "cell_type": "code",
   "execution_count": null,
   "id": "66dac405-d6f4-441e-b558-dc1295f28931",
   "metadata": {},
   "outputs": [],
   "source": []
  },
  {
   "cell_type": "code",
   "execution_count": null,
   "id": "4ac2d063-c1e0-4d88-a04c-97827327b4d1",
   "metadata": {},
   "outputs": [],
   "source": []
  },
  {
   "cell_type": "code",
   "execution_count": null,
   "id": "d598b470-ec07-43a5-b142-4897fbf30852",
   "metadata": {},
   "outputs": [],
   "source": []
  },
  {
   "cell_type": "code",
   "execution_count": null,
   "id": "0af7765d-b4bd-4206-bcc2-975a35a4c3d5",
   "metadata": {},
   "outputs": [],
   "source": []
  },
  {
   "cell_type": "code",
   "execution_count": null,
   "id": "6c39bffe-7637-47d9-97e7-78474693c66e",
   "metadata": {},
   "outputs": [],
   "source": []
  },
  {
   "cell_type": "code",
   "execution_count": null,
   "id": "d602b8d9-e2c2-4191-ba7e-f948b61135bc",
   "metadata": {},
   "outputs": [],
   "source": []
  },
  {
   "cell_type": "code",
   "execution_count": null,
   "id": "142f9a64-7d48-416f-a151-376dd4142ad2",
   "metadata": {},
   "outputs": [],
   "source": []
  },
  {
   "cell_type": "code",
   "execution_count": null,
   "id": "0b7b4ac3-46a7-46a0-be6c-2916bb75ed6b",
   "metadata": {},
   "outputs": [],
   "source": []
  },
  {
   "cell_type": "code",
   "execution_count": null,
   "id": "5df1ece6-3914-45e2-9b54-f5c6eb127e48",
   "metadata": {},
   "outputs": [],
   "source": []
  },
  {
   "cell_type": "code",
   "execution_count": null,
   "id": "be88d3c0-e629-4def-af8c-0cf764d0aa80",
   "metadata": {},
   "outputs": [],
   "source": []
  },
  {
   "cell_type": "code",
   "execution_count": null,
   "id": "270e0d47-f1af-4045-aaa1-a4c5c08aae55",
   "metadata": {},
   "outputs": [],
   "source": []
  },
  {
   "cell_type": "code",
   "execution_count": null,
   "id": "6642f881-8a50-439c-901f-a7175cb49ac2",
   "metadata": {},
   "outputs": [],
   "source": []
  },
  {
   "cell_type": "code",
   "execution_count": null,
   "id": "a734a486-a395-46bc-a766-34b1d814f9b9",
   "metadata": {},
   "outputs": [],
   "source": []
  },
  {
   "cell_type": "code",
   "execution_count": null,
   "id": "e46d04d0-18b9-41a6-9c2b-a5eb7bc7909e",
   "metadata": {},
   "outputs": [],
   "source": []
  },
  {
   "cell_type": "code",
   "execution_count": null,
   "id": "52f4c199-8230-45c5-84db-250eb4e3b2b9",
   "metadata": {},
   "outputs": [],
   "source": []
  },
  {
   "cell_type": "code",
   "execution_count": null,
   "id": "8700a560-5648-4d1f-94de-2183d5db65ff",
   "metadata": {},
   "outputs": [],
   "source": []
  },
  {
   "cell_type": "code",
   "execution_count": null,
   "id": "ae0c3c9e-eee6-4023-842d-038bfae50d73",
   "metadata": {},
   "outputs": [],
   "source": []
  },
  {
   "cell_type": "code",
   "execution_count": null,
   "id": "3cc2c693-f5c1-4a18-9d9f-e5f8879b1e52",
   "metadata": {},
   "outputs": [],
   "source": []
  },
  {
   "cell_type": "code",
   "execution_count": null,
   "id": "d6c01bde-6264-4c45-9be5-dbf40e92db82",
   "metadata": {},
   "outputs": [],
   "source": []
  },
  {
   "cell_type": "code",
   "execution_count": null,
   "id": "7f64ab95-ad3a-4b97-86c9-d76a959bd9ce",
   "metadata": {},
   "outputs": [],
   "source": []
  },
  {
   "cell_type": "code",
   "execution_count": null,
   "id": "97adee26-03fa-4a15-8fb4-261193833004",
   "metadata": {},
   "outputs": [],
   "source": []
  },
  {
   "cell_type": "code",
   "execution_count": null,
   "id": "c865701d-32b2-4e5a-9b45-5a6c7611ffe3",
   "metadata": {},
   "outputs": [],
   "source": []
  },
  {
   "cell_type": "code",
   "execution_count": null,
   "id": "f7c95bad-d46e-4450-bd2f-80af85cb6206",
   "metadata": {},
   "outputs": [],
   "source": []
  },
  {
   "cell_type": "code",
   "execution_count": null,
   "id": "51abf7c0-8de5-4b39-99f0-b521b9494e9c",
   "metadata": {},
   "outputs": [],
   "source": []
  },
  {
   "cell_type": "code",
   "execution_count": null,
   "id": "f5151e5a-d1a5-4c71-ac41-54d99e9a3315",
   "metadata": {},
   "outputs": [],
   "source": []
  },
  {
   "cell_type": "code",
   "execution_count": null,
   "id": "90b804c5-a854-4fce-98f2-0e872505d012",
   "metadata": {},
   "outputs": [],
   "source": []
  },
  {
   "cell_type": "code",
   "execution_count": null,
   "id": "223c9b2c-17fb-419a-8706-635160e61fda",
   "metadata": {},
   "outputs": [],
   "source": []
  },
  {
   "cell_type": "code",
   "execution_count": null,
   "id": "6a539ed0-bcba-4db9-a983-17c179274f2c",
   "metadata": {},
   "outputs": [],
   "source": []
  },
  {
   "cell_type": "code",
   "execution_count": null,
   "id": "73e51816-cb46-4ba4-94c3-131762bd4bf4",
   "metadata": {},
   "outputs": [],
   "source": []
  },
  {
   "cell_type": "code",
   "execution_count": null,
   "id": "93c35caf-6fad-4416-b211-70f8cc3ea05f",
   "metadata": {},
   "outputs": [],
   "source": []
  },
  {
   "cell_type": "code",
   "execution_count": null,
   "id": "213672c2-c41a-46b9-aa99-e2aae8b698ed",
   "metadata": {},
   "outputs": [],
   "source": []
  },
  {
   "cell_type": "code",
   "execution_count": null,
   "id": "f3222860-5255-4b78-aeb2-569cf733d9bf",
   "metadata": {},
   "outputs": [],
   "source": []
  },
  {
   "cell_type": "code",
   "execution_count": null,
   "id": "4927a18a-f8d5-42b9-984e-c51136b38dda",
   "metadata": {},
   "outputs": [],
   "source": []
  },
  {
   "cell_type": "code",
   "execution_count": null,
   "id": "28daebc8-fbd8-4c55-949d-061382febc27",
   "metadata": {},
   "outputs": [],
   "source": []
  },
  {
   "cell_type": "code",
   "execution_count": null,
   "id": "513796f0-faa9-4de1-a10f-7ee99e6ac0a2",
   "metadata": {},
   "outputs": [],
   "source": []
  },
  {
   "cell_type": "code",
   "execution_count": null,
   "id": "f1ae1ac3-5bbc-45b6-885e-e5d97ed41174",
   "metadata": {},
   "outputs": [],
   "source": []
  },
  {
   "cell_type": "code",
   "execution_count": null,
   "id": "08b2fa3e-4713-469a-a3b1-ce1bf0dcb295",
   "metadata": {},
   "outputs": [],
   "source": []
  },
  {
   "cell_type": "code",
   "execution_count": null,
   "id": "5957d57a-ccc1-421d-b03b-845ff45e8945",
   "metadata": {},
   "outputs": [],
   "source": []
  },
  {
   "cell_type": "code",
   "execution_count": null,
   "id": "73cb1002-18f1-4938-bd70-2f0a376e0cc0",
   "metadata": {},
   "outputs": [],
   "source": []
  },
  {
   "cell_type": "code",
   "execution_count": null,
   "id": "65feda74-7214-47dc-b40c-ea3e81544c56",
   "metadata": {},
   "outputs": [],
   "source": []
  },
  {
   "cell_type": "code",
   "execution_count": null,
   "id": "21b1fd87-c314-4940-a6b9-ed26b76e3fcb",
   "metadata": {},
   "outputs": [],
   "source": []
  },
  {
   "cell_type": "code",
   "execution_count": null,
   "id": "911df125-af68-4000-b6c4-3121589c1ada",
   "metadata": {},
   "outputs": [],
   "source": []
  },
  {
   "cell_type": "code",
   "execution_count": null,
   "id": "3828c49d-582f-4a3f-bc17-e6ed782a9f8d",
   "metadata": {},
   "outputs": [],
   "source": []
  },
  {
   "cell_type": "code",
   "execution_count": null,
   "id": "36d98825-9ec8-425d-8a4a-c8e79a5f7d70",
   "metadata": {},
   "outputs": [],
   "source": []
  },
  {
   "cell_type": "code",
   "execution_count": null,
   "id": "91d68739-38d3-4ffe-943a-840fb04590a9",
   "metadata": {},
   "outputs": [],
   "source": []
  },
  {
   "cell_type": "code",
   "execution_count": null,
   "id": "a5ac5462-3e24-4735-86d8-0e1c2eab3c76",
   "metadata": {},
   "outputs": [],
   "source": []
  },
  {
   "cell_type": "code",
   "execution_count": null,
   "id": "fd88ed8c-6857-48d9-a7b8-6998df6762ff",
   "metadata": {},
   "outputs": [],
   "source": []
  },
  {
   "cell_type": "code",
   "execution_count": null,
   "id": "9788df44-85bc-4370-8ff4-8e2020363c6e",
   "metadata": {},
   "outputs": [],
   "source": []
  },
  {
   "cell_type": "code",
   "execution_count": null,
   "id": "6ad4fb26-d376-4e33-adac-1c49fd8d7756",
   "metadata": {},
   "outputs": [],
   "source": []
  },
  {
   "cell_type": "code",
   "execution_count": null,
   "id": "bb09120d-21d9-49c1-b7dc-c0f4723d3f11",
   "metadata": {},
   "outputs": [],
   "source": []
  },
  {
   "cell_type": "code",
   "execution_count": null,
   "id": "75e2f39f-769b-4b4d-a7e5-de84ebb1bc15",
   "metadata": {},
   "outputs": [],
   "source": []
  },
  {
   "cell_type": "code",
   "execution_count": null,
   "id": "c9d788f3-b580-483f-a16c-4562bbed964e",
   "metadata": {},
   "outputs": [],
   "source": []
  },
  {
   "cell_type": "code",
   "execution_count": null,
   "id": "b4be6f26-f538-4cc8-a8ee-ac2146d8d496",
   "metadata": {},
   "outputs": [],
   "source": []
  },
  {
   "cell_type": "code",
   "execution_count": null,
   "id": "cae1d4d9-e6e7-4b4e-b754-61b9505adfbe",
   "metadata": {},
   "outputs": [],
   "source": []
  },
  {
   "cell_type": "code",
   "execution_count": null,
   "id": "9f18f01a-0e58-4e4f-926a-e5a163b8561e",
   "metadata": {},
   "outputs": [],
   "source": []
  },
  {
   "cell_type": "code",
   "execution_count": null,
   "id": "51c632b4-917b-48ee-92d7-af393148b12d",
   "metadata": {},
   "outputs": [],
   "source": []
  },
  {
   "cell_type": "code",
   "execution_count": null,
   "id": "406ced4d-0a63-4081-b90a-758fe19eb987",
   "metadata": {},
   "outputs": [],
   "source": []
  },
  {
   "cell_type": "code",
   "execution_count": null,
   "id": "e3843e6c-d42b-460e-b379-14918dff73c0",
   "metadata": {},
   "outputs": [],
   "source": []
  },
  {
   "cell_type": "code",
   "execution_count": null,
   "id": "efc03190-87ba-4dbc-9395-c48bf9ebb9d9",
   "metadata": {},
   "outputs": [],
   "source": []
  },
  {
   "cell_type": "code",
   "execution_count": null,
   "id": "c36a6298-4fff-4875-ba4e-f725d371823a",
   "metadata": {},
   "outputs": [],
   "source": []
  },
  {
   "cell_type": "code",
   "execution_count": null,
   "id": "9ca24d87-9503-47bd-8b77-f0553d21dd90",
   "metadata": {},
   "outputs": [],
   "source": []
  }
 ],
 "metadata": {
  "kernelspec": {
   "display_name": "Python 3 (ipykernel)",
   "language": "python",
   "name": "python3"
  },
  "language_info": {
   "codemirror_mode": {
    "name": "ipython",
    "version": 3
   },
   "file_extension": ".py",
   "mimetype": "text/x-python",
   "name": "python",
   "nbconvert_exporter": "python",
   "pygments_lexer": "ipython3",
   "version": "3.12.7"
  }
 },
 "nbformat": 4,
 "nbformat_minor": 5
}
